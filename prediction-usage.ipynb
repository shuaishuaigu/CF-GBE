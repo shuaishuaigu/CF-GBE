{
 "cells": [
  {
   "cell_type": "code",
   "execution_count": null,
   "metadata": {},
   "outputs": [],
   "source": [
    "import pandas as pd\n",
    "import numpy as np\n",
    "import scipy\n",
    "import scipy.stats\n",
    "from keras.models import Sequential\n",
    "from keras.layers.core import Dense, Activation, Flatten, Dropout\n",
    "from keras.layers.convolutional import Convolution2D,Convolution1D,MaxPooling1D,AveragePooling1D\n",
    "from tensorflow.keras.optimizers import Adam\n",
    "from hyperopt import fmin, tpe, hp, STATUS_OK, Trials\n",
    "import hyperopt.fmin as hypfmin\n",
    "import keras\n",
    "import theano\n",
    "import random\n",
    "import os\n",
    "import pickle\n",
    "import hyperopt\n",
    "\n",
    "# plotting\n",
    "import seaborn as sns\n",
    "import matplotlib.pyplot as plt\n",
    "%matplotlib inline"
   ]
  },
  {
   "cell_type": "code",
   "execution_count": null,
   "metadata": {},
   "outputs": [],
   "source": [
    "def import_data(filepath):\n",
    "    data = pd.read_csv(filepath)\n",
    "    return data"
   ]
  },
  {
   "cell_type": "code",
   "execution_count": null,
   "metadata": {},
   "outputs": [],
   "source": [
    "def get_X_Y_train_test(filepath,editor,task):\n",
    "    data = preprocess(filepath,editor,task)\n",
    "    targets,n20s_l,e_dict = len(data),list(),{'T': 3,'G': 2,'C': 1,'A': 0 }\n",
    "    split,inds = int(targets*4/5),np.argsort(data['total'])\n",
    "    for n20 in data['N20']:\n",
    "        n20_l = list()\n",
    "        for b in range(4):\n",
    "            n20_l.append([1 if e_dict[n20[x]] == b else 0 for x in range(20)] )\n",
    "        n20s_l.append(array(n20_l)[np.newaxis, :])\n",
    "    X = array(n20s_l).astype(config.floatX)\n",
    "    train,test = inds[0:split],inds[split:targets]\n",
    "\n",
    "    return train,test\n"
   ]
  },
  {
   "cell_type": "code",
   "execution_count": null,
   "metadata": {},
   "outputs": [],
   "source": [
    "def load_model(model_json_path,model_height_path):\n",
    "    \n",
    "    # model_json_path\n",
    "    model = keras.models.model_from_json(open('model_arch.json').read())\n",
    "    # model_height_path\n",
    "    model.load_weights('model_weights.hdf5')\n",
    "    # compile optime and loss function\n",
    "    model.compile(loss='mean_squared_error', optimizer='adam')\n",
    "\n",
    "    return model"
   ]
  },
  {
   "cell_type": "code",
   "execution_count": null,
   "metadata": {},
   "outputs": [],
   "source": [
    "def predict_result(model,X):\n",
    "    Y_pred = model.predict(X,verbose=0) \n",
    "    return Y_pred"
   ]
  },
  {
   "cell_type": "code",
   "execution_count": null,
   "metadata": {},
   "outputs": [],
   "source": []
  }
 ],
 "metadata": {
  "language_info": {
   "name": "python"
  },
  "orig_nbformat": 4
 },
 "nbformat": 4,
 "nbformat_minor": 2
}
